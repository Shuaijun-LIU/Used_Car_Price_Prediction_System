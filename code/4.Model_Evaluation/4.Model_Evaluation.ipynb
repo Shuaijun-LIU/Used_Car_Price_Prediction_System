{
 "cells": [
  {
   "cell_type": "markdown",
   "source": [],
   "metadata": {
    "collapsed": false
   },
   "id": "4258d5cea8d0cfd0"
  },
  {
   "cell_type": "code",
   "execution_count": 18,
   "outputs": [
    {
     "name": "stdout",
     "output_type": "stream",
     "text": [
      "               Model           MSE          RMSE          MAE        R2  \\\n",
      "0  Linear Regression  1.092876e+08  10454.068723  7638.766117  0.231720   \n",
      "1      Random Forest  2.409568e+07   4908.734912  2654.638373  0.830610   \n",
      "2  Gradient Boosting  4.341015e+07   6588.638173  4281.901194  0.694831   \n",
      "3     Naïve Bayesian           NaN           NaN          NaN       NaN   \n",
      "4                LDA           NaN           NaN          NaN       NaN   \n",
      "5                kNN  3.989881e+07   6316.550323  3070.912854  0.719515   \n",
      "6                SVM  8.086734e+07   8992.627141  5886.015887  0.431511   \n",
      "7      Decision Tree  4.873361e+07   6980.946192  3552.407710  0.657408   \n",
      "8               LSTM  3.246954e+07   5423.035234  2857.853403  0.821340   \n",
      "\n",
      "   Accuracy                                   Confusion Matrix  \n",
      "0       NaN                                                NaN  \n",
      "1       NaN                                                NaN  \n",
      "2       NaN                                                NaN  \n",
      "3  0.514161         [[105, 47, 8], [36, 106, 7], [5, 120, 25]]  \n",
      "4  0.457516  [[72, 6, 9, 27], [41, 34, 30, 20], [16, 18, 29...  \n",
      "5       NaN                                                NaN  \n",
      "6       NaN                                                NaN  \n",
      "7       NaN                                                NaN  \n",
      "8       NaN                                                NaN  \n"
     ]
    }
   ],
   "source": [
    "'''Sum the results'''\n",
    "import pandas as pd\n",
    "\n",
    "# Create a list to store the results\n",
    "results_data = []\n",
    "\n",
    "# Append results for each model\n",
    "results_data.append({'Model': 'Linear Regression', 'MSE': mse_lr, 'RMSE': rmse_lr, 'MAE': mae_lr, 'R2': r2_lr})\n",
    "results_data.append({'Model': 'Random Forest', 'MSE': mse_rf, 'RMSE': rmse_rf, 'MAE': mae_rf, 'R2': r2_rf})\n",
    "results_data.append({'Model': 'Gradient Boosting', 'MSE': mse_gb, 'RMSE': rmse_gb, 'MAE': mae_gb, 'R2': r2_gb})\n",
    "results_data.append({'Model': 'Naïve Bayesian', 'Accuracy': accuracy, 'Confusion Matrix': conf_matrix})\n",
    "results_data.append({'Model': 'Linear Discri(LDA)', 'Accuracy': accuracy_lda, 'Confusion Matrix': conf_matrix_lda})\n",
    "results_data.append({'Model': 'kNN', 'MSE': mse_knn, 'RMSE': rmse_knn, 'MAE': mae_knn, 'R2': r2_knn})\n",
    "results_data.append({'Model': 'SVM', 'MSE': mse_svm, 'RMSE': rmse_svm, 'MAE': mae_svm, 'R2': r2_svm})\n",
    "results_data.append({'Model': 'Decision Tree', 'MSE': mse_dt_opt, 'RMSE': rmse_dt_opt, 'MAE': mae_dt_opt, 'R2': r2_dt_opt})\n",
    "results_data.append({'Model': 'LSTM', 'MSE': mse, 'RMSE': rmse, 'MAE': mae, 'R2': r2})\n",
    "\n",
    "# Create DataFrame from the list of dictionaries\n",
    "results = pd.DataFrame(results_data)\n",
    "\n",
    "print(results)\n"
   ],
   "metadata": {
    "collapsed": false,
    "ExecuteTime": {
     "end_time": "2024-04-25T08:36:09.252271Z",
     "start_time": "2024-04-25T08:36:09.248736Z"
    }
   },
   "id": "d35550cad4b3385e"
  },
  {
   "cell_type": "code",
   "execution_count": 19,
   "outputs": [
    {
     "name": "stdout",
     "output_type": "stream",
     "text": [
      "               Model           MSE          RMSE          MAE        R2  \\\n",
      "1      Random Forest  2.409568e+07   4908.734912  2654.638373  0.830610   \n",
      "8               LSTM  3.246954e+07   5423.035234  2857.853403  0.821340   \n",
      "5                kNN  3.989881e+07   6316.550323  3070.912854  0.719515   \n",
      "2  Gradient Boosting  4.341015e+07   6588.638173  4281.901194  0.694831   \n",
      "7      Decision Tree  4.873361e+07   6980.946192  3552.407710  0.657408   \n",
      "6                SVM  8.086734e+07   8992.627141  5886.015887  0.431511   \n",
      "0  Linear Regression  1.092876e+08  10454.068723  7638.766117  0.231720   \n",
      "\n",
      "   Accuracy Confusion Matrix  \n",
      "1       NaN              NaN  \n",
      "8       NaN              NaN  \n",
      "5       NaN              NaN  \n",
      "2       NaN              NaN  \n",
      "7       NaN              NaN  \n",
      "6       NaN              NaN  \n",
      "0       NaN              NaN  \n"
     ]
    }
   ],
   "source": [
    "# Filter out model results containing MSE and ignore purely classification models\n",
    "filtered_results = results.dropna(subset=['MSE'])\n",
    "\n",
    "# Sort by MSE\n",
    "sorted_results = filtered_results.sort_values(by='MSE')\n",
    "\n",
    "# Print the sorted results\n",
    "print(sorted_results)\n"
   ],
   "metadata": {
    "collapsed": false,
    "ExecuteTime": {
     "end_time": "2024-04-25T08:36:12.459023Z",
     "start_time": "2024-04-25T08:36:12.454257Z"
    }
   },
   "id": "77904d577868484b"
  }
 ],
 "metadata": {
  "kernelspec": {
   "display_name": "Python 3",
   "language": "python",
   "name": "python3"
  },
  "language_info": {
   "codemirror_mode": {
    "name": "ipython",
    "version": 2
   },
   "file_extension": ".py",
   "mimetype": "text/x-python",
   "name": "python",
   "nbconvert_exporter": "python",
   "pygments_lexer": "ipython2",
   "version": "2.7.6"
  }
 },
 "nbformat": 4,
 "nbformat_minor": 5
}
